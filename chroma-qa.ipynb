{
 "cells": [
  {
   "cell_type": "code",
   "execution_count": null,
   "id": "9438dc99",
   "metadata": {},
   "outputs": [],
   "source": [
    "from langchain_openai import ChatOpenAI, OpenAIEmbeddings\n",
    "from langchain_community.vectorstores import Chroma\n",
    "from langchain.text_splitter import RecursiveCharacterTextSplitter\n",
    "from langchain.chains import RetrievalQA\n",
    "from langchain_chroma import Chroma"
   ]
  },
  {
   "cell_type": "code",
   "execution_count": null,
   "id": "677d6c98",
   "metadata": {},
   "outputs": [],
   "source": [
    "embeddigs = OpenAIEmbeddings(model=\"text-embedding-3-large\")"
   ]
  },
  {
   "cell_type": "code",
   "execution_count": null,
   "id": "dd311516",
   "metadata": {},
   "outputs": [],
   "source": [
    "vector_store = Chroma(\n",
    "    collection_name=\"example\",\n",
    "    embedding_function=embeddigs,\n",
    ")"
   ]
  },
  {
   "cell_type": "code",
   "execution_count": 15,
   "id": "d8dad693",
   "metadata": {},
   "outputs": [],
   "source": [
    "vector_store = Chroma(\n",
    "    persist_directory='./db',\n",
    "    collection_name='example',\n",
    "    embedding_function=embeddigs\n",
    ")"
   ]
  },
  {
   "cell_type": "code",
   "execution_count": null,
   "id": "2dae23c9",
   "metadata": {},
   "outputs": [],
   "source": [
    "# Chroma Clients\n",
    "import chromadb\n",
    "client = chromadb.Client()"
   ]
  },
  {
   "cell_type": "code",
   "execution_count": null,
   "id": "b496d28b",
   "metadata": {},
   "outputs": [],
   "source": [
    "client = chromadb.PersistentClient(path=\"./db\")"
   ]
  },
  {
   "cell_type": "code",
   "execution_count": null,
   "id": "05b0b40c",
   "metadata": {},
   "outputs": [
    {
     "data": {
      "text/plain": [
       "Collection(name=example)"
      ]
     },
     "execution_count": 8,
     "metadata": {},
     "output_type": "execute_result"
    }
   ],
   "source": [
    "collection = client.get_or_create_collection('example')\n",
    "collection"
   ]
  },
  {
   "cell_type": "code",
   "execution_count": null,
   "id": "5d2794e2",
   "metadata": {},
   "outputs": [
    {
     "name": "stderr",
     "output_type": "stream",
     "text": [
      "C:\\Users\\malik\\.cache\\chroma\\onnx_models\\all-MiniLM-L6-v2\\onnx.tar.gz: 100%|██████████| 79.3M/79.3M [00:31<00:00, 2.68MiB/s]\n"
     ]
    }
   ],
   "source": [
    "collection.add(ids=['1', '2', '3'], documents=['a', 'b', 'c'])"
   ]
  },
  {
   "cell_type": "code",
   "execution_count": null,
   "id": "91bb9d78",
   "metadata": {},
   "outputs": [],
   "source": [
    "vector_store_from_client = Chroma(\n",
    "    client=client,\n",
    "    collection_name=\"example\",\n",
    "    embedding_function=embeddigs,\n",
    "    persist_directory='./db'\n",
    ")"
   ]
  },
  {
   "cell_type": "code",
   "execution_count": 18,
   "id": "b87443ea",
   "metadata": {},
   "outputs": [
    {
     "data": {
      "text/plain": [
       "['bc6d7c57-e088-4ac1-8998-8339ab95b170',\n",
       " '47459fe8-bac5-40b5-aded-8365affa4c0b',\n",
       " 'c36014de-61fd-4b29-a8c1-f020f3be85c3',\n",
       " '0131f263-7b69-40e6-a20c-aecbdc940d21',\n",
       " 'a3948250-6bf9-4fa2-8a20-87284f61c63a',\n",
       " '5895976e-d4ed-49c7-88cb-d8272e9d6edd',\n",
       " 'a2939ad4-1109-4fa7-996a-eaaf9012bb64',\n",
       " '1158a33c-34e8-4113-9e10-e7a299313673',\n",
       " '5211f5c9-ca6e-4a0c-abe6-9ce2c67e63f6',\n",
       " '1cf4f613-eb7b-4991-bd3e-358a3821c70d']"
      ]
     },
     "execution_count": 18,
     "metadata": {},
     "output_type": "execute_result"
    }
   ],
   "source": [
    "# Manage Vector Store.\n",
    "from uuid import uuid4\n",
    "from langchain.schema.document import Document\n",
    "\n",
    "\n",
    "vector_store=Chroma(\n",
    "    persist_directory=\"./db\",\n",
    "    collection_name=\"new\",\n",
    "    embedding_function=embeddigs\n",
    ")\n",
    "\n",
    "document_1 = Document(\n",
    "    page_content=\"I had chocolate chip pancakes and scrambled eggs for breakfast this morning.\",\n",
    "    metadata={\"source\": \"tweet\"},\n",
    "    id=1,\n",
    ")\n",
    "\n",
    "document_2 = Document(\n",
    "    page_content=\"The weather forecast for tomorrow is cloudy and overcast, with a high of 62 degrees.\",\n",
    "    metadata={\"source\": \"news\"},\n",
    "    id=2,\n",
    ")\n",
    "\n",
    "document_3 = Document(\n",
    "    page_content=\"Building an exciting new project with LangChain - come check it out!\",\n",
    "    metadata={\"source\": \"tweet\"},\n",
    "    id=3,\n",
    ")\n",
    "\n",
    "document_4 = Document(\n",
    "    page_content=\"Robbers broke into the city bank and stole $1 million in cash.\",\n",
    "    metadata={\"source\": \"news\"},\n",
    "    id=4,\n",
    ")\n",
    "\n",
    "document_5 = Document(\n",
    "    page_content=\"Wow! That was an amazing movie. I can't wait to see it again.\",\n",
    "    metadata={\"source\": \"tweet\"},\n",
    "    id=5,\n",
    ")\n",
    "\n",
    "document_6 = Document(\n",
    "    page_content=\"Is the new iPhone worth the price? Read this review to find out.\",\n",
    "    metadata={\"source\": \"website\"},\n",
    "    id=6,\n",
    ")\n",
    "\n",
    "document_7 = Document(\n",
    "    page_content=\"The top 10 soccer players in the world right now.\",\n",
    "    metadata={\"source\": \"website\"},\n",
    "    id=7,\n",
    ")\n",
    "\n",
    "document_8 = Document(\n",
    "    page_content=\"LangGraph is the best framework for building stateful, agentic applications!\",\n",
    "    metadata={\"source\": \"tweet\"},\n",
    "    id=8,\n",
    ")\n",
    "\n",
    "document_9 = Document(\n",
    "    page_content=\"The stock market is down 500 points today due to fears of a recession.\",\n",
    "    metadata={\"source\": \"news\"},\n",
    "    id=9,\n",
    ")\n",
    "\n",
    "document_10 = Document(\n",
    "    page_content=\"I have a bad feeling I am going to get deleted :(\",\n",
    "    metadata={\"source\": \"tweet\"},\n",
    "    id=10,\n",
    ")\n",
    "\n",
    "documents = [\n",
    "    document_1,\n",
    "    document_2,\n",
    "    document_3,\n",
    "    document_4,\n",
    "    document_5,\n",
    "    document_6,\n",
    "    document_7,\n",
    "    document_8,\n",
    "    document_9,\n",
    "    document_10,\n",
    "]\n",
    "\n",
    "uuids=[str(uuid4()) for _ in range(len(documents))]\n",
    "vector_store.add_documents(documents,ids=uuids)"
   ]
  },
  {
   "cell_type": "code",
   "execution_count": 20,
   "id": "1c9263fe",
   "metadata": {},
   "outputs": [],
   "source": [
    "updated_document_1 = Document(\n",
    "    page_content=\"I had chocolate chip pancakes and fried eggs for breakfast this morning.\",\n",
    "    metadata={\"source\": \"tweet\"},\n",
    "    id=1,\n",
    ")\n",
    "\n",
    "updated_document_2 = Document(\n",
    "    page_content=\"The weather forecast for tomorrow is sunny and warm, with a high of 82 degrees.\",\n",
    "    metadata={\"source\": \"news\"},\n",
    "    id=2,\n",
    ")\n",
    "\n",
    "vector_store.update_document(document_id=uuids[0],document=updated_document_1)\n",
    "vector_store.update_documents(\n",
    "    ids=uuids[:2],documents=[updated_document_1,updated_document_2]\n",
    ")"
   ]
  },
  {
   "cell_type": "code",
   "execution_count": 21,
   "id": "1a015325",
   "metadata": {},
   "outputs": [],
   "source": [
    "vector_store.delete(ids=uuids[-1])"
   ]
  },
  {
   "cell_type": "code",
   "execution_count": 24,
   "id": "901ecc4f",
   "metadata": {},
   "outputs": [
    {
     "data": {
      "text/plain": [
       "[Document(id='c36014de-61fd-4b29-a8c1-f020f3be85c3', metadata={'source': 'tweet'}, page_content='Building an exciting new project with LangChain - come check it out!'),\n",
       " Document(id='1158a33c-34e8-4113-9e10-e7a299313673', metadata={'source': 'tweet'}, page_content='LangGraph is the best framework for building stateful, agentic applications!')]"
      ]
     },
     "execution_count": 24,
     "metadata": {},
     "output_type": "execute_result"
    }
   ],
   "source": [
    "# Query \n",
    "results=vector_store.similarity_search(\"LangChain provides abstractions to make working with LLMs easy\",\n",
    "    k=2,filter={'source':'tweet'})\n",
    "results"
   ]
  },
  {
   "cell_type": "code",
   "execution_count": 30,
   "id": "890910a3",
   "metadata": {},
   "outputs": [
    {
     "name": "stdout",
     "output_type": "stream",
     "text": [
      "* [SIM=0.807253] The weather forecast for tomorrow is sunny and warm, with a high of 82 degrees. [{'source': 'news'}]\n",
      "* [SIM=1.726037] The stock market is down 500 points today due to fears of a recession. [{'source': 'news'}]\n"
     ]
    }
   ],
   "source": [
    "results=vector_store.similarity_search_with_score(\"Will it be hot tomorrow?\",k=2,filter={'source':'news'})\n",
    "results\n",
    "for res,score in results:\n",
    "    print(f\"* [SIM={score:3f}] {res.page_content} [{res.metadata}]\")"
   ]
  },
  {
   "cell_type": "code",
   "execution_count": 31,
   "id": "7cf127d6",
   "metadata": {},
   "outputs": [
    {
     "name": "stdout",
     "output_type": "stream",
     "text": [
      "** I had chocolate chip pancakes and fried eggs for breakfast this morning. [{'source': 'tweet'}]\n"
     ]
    }
   ],
   "source": [
    "# Seach by vector\n",
    "results=vector_store.similarity_search_by_vector(\n",
    "    embedding=embeddigs.embed_query(\"I love green eggs and ham!\"),k=1\n",
    ")\n",
    "for doc in results:\n",
    "    print(f\"** {doc.page_content} [{doc.metadata}]\")"
   ]
  },
  {
   "cell_type": "code",
   "execution_count": 37,
   "id": "6248e12d",
   "metadata": {},
   "outputs": [
    {
     "name": "stdout",
     "output_type": "stream",
     "text": [
      "** Robbers broke into the city bank and stole $1 million in cash. [{'source': 'news'}]\n"
     ]
    }
   ],
   "source": [
    "# Query trunint into retriever\n",
    "retriever=vector_store.as_retriever(\n",
    "    search_type=\"mmr\",search_kwargs={\"k\":1,\"fetch_k\":5}\n",
    ")\n",
    "\n",
    "result=retriever.invoke(\"Stealing from the bank is a crime\",filter={\"source\":\"news\"})\n",
    "for doc in result:\n",
    "    print(f\"** {doc.page_content} [{doc.metadata}]\")"
   ]
  },
  {
   "cell_type": "code",
   "execution_count": null,
   "id": "44edc73e",
   "metadata": {},
   "outputs": [],
   "source": []
  }
 ],
 "metadata": {
  "kernelspec": {
   "display_name": "venv",
   "language": "python",
   "name": "python3"
  },
  "language_info": {
   "codemirror_mode": {
    "name": "ipython",
    "version": 3
   },
   "file_extension": ".py",
   "mimetype": "text/x-python",
   "name": "python",
   "nbconvert_exporter": "python",
   "pygments_lexer": "ipython3",
   "version": "3.11.0"
  }
 },
 "nbformat": 4,
 "nbformat_minor": 5
}
